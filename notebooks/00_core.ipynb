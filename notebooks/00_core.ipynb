{
 "cells": [
  {
   "cell_type": "code",
   "execution_count": null,
   "metadata": {},
   "outputs": [],
   "source": [
    "# default_exp loss_functions"
   ]
  },
  {
   "cell_type": "markdown",
   "metadata": {},
   "source": [
    "# `loss_functions`\n",
    "\n",
    "> This module contains implementations of the loss functions associated with uncensored data, as defined in the [original DRSA paper](https://arxiv.org/pdf/1809.02403.pdf)."
   ]
  },
  {
   "cell_type": "code",
   "execution_count": null,
   "metadata": {},
   "outputs": [],
   "source": [
    "#hide\n",
    "from nbdev.showdoc import *\n",
    "import torch"
   ]
  },
  {
   "cell_type": "markdown",
   "metadata": {},
   "source": [
    "As defined in the [DRSA paper](https://arxiv.org/pdf/1809.02403.pdf)\n",
    "\n",
    "* Discrete event rate (empirical CDF):\n",
    "\n",
    "$$ W(t_l) = Pr(z \\leq t_l) = \\sum_{j\\leq l}Pr(z\\in V_j) $$\n",
    "\n",
    "* Discrete Survival function:\n",
    "\n",
    "$$ S(t_l) = Pr(z > t_l) = \\sum_{j > l}Pr(z\\in V_j) $$\n",
    "\n",
    "* Discrete event time probability function (empirical PDF):\n",
    "\n",
    "$$p_l = Pr(z\\in V_t) = W(t_l) - W(t_{l-1}) = S(t_{l-1}) - S(t_{l})$$\n",
    "\n",
    "* Discrete conditional hazard rate:\n",
    "\n",
    "$$h_l = Pr(z\\in V_l | z > t_{l-1}) = \\frac{Pr(z\\in V_l)}{Pr(z>t_{l-1})} = \\frac{p_l}{S(t_{l-1})}$$"
   ]
  },
  {
   "cell_type": "code",
   "execution_count": null,
   "metadata": {},
   "outputs": [],
   "source": [
    "#export\n",
    "\n",
    "def survival_rate(ts):\n",
    "    return torch.prod(1-ts, dim=1)\n",
    "\n",
    "def event_rate(ts):\n",
    "    return 1-survival_rate(ts)\n",
    "\n",
    "def event_time(ts):\n",
    "    return ts[:, -1, :] * survival_rate(ts[:, :-1, :])"
   ]
  },
  {
   "cell_type": "code",
   "execution_count": null,
   "metadata": {},
   "outputs": [
    {
     "name": "stdout",
     "output_type": "stream",
     "text": [
      "torch.Size([2, 8, 1])\n",
      "Survival rate:\n",
      " tensor([[0.0117],\n",
      "        [0.0506]], grad_fn=<ProdBackward1>)\n",
      "Event rate:\n",
      " tensor([[0.9883],\n",
      "        [0.9494]], grad_fn=<RsubBackward1>)\n",
      "Event time:\n",
      " tensor([[0.1056],\n",
      "        [0.4556]], grad_fn=<MulBackward0>)\n"
     ]
    }
   ],
   "source": [
    "ts1 = torch.tensor([[0.001],\n",
    "                    [0.5],\n",
    "                    [0.55],\n",
    "                    [0.15],\n",
    "                    [0.15],\n",
    "                    [0.15],\n",
    "                    [0.15],\n",
    "                    [0.9]], requires_grad=True)\n",
    "\n",
    "ts2 = torch.tensor([[0.001],\n",
    "                    [0.005],\n",
    "                    [0.1],\n",
    "                    [0.11],\n",
    "                    [0.12],\n",
    "                    [0.15],\n",
    "                    [0.15],\n",
    "                    [0.9]], requires_grad=True)\n",
    "\n",
    "ts = torch.stack([ts1, ts2], dim=0)\n",
    "print(ts.shape)\n",
    "print(f\"Survival rate:\\n {survival_rate(ts)}\")\n",
    "print(f\"Event rate:\\n {event_rate(ts)}\")\n",
    "print(f\"Event time:\\n {event_time(ts)}\")"
   ]
  }
 ],
 "metadata": {
  "kernelspec": {
   "display_name": "Python 3",
   "language": "python",
   "name": "python3"
  }
 },
 "nbformat": 4,
 "nbformat_minor": 4
}
