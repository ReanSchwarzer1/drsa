{
 "cells": [
  {
   "cell_type": "code",
   "execution_count": null,
   "metadata": {},
   "outputs": [],
   "source": [
    "#export\n",
    "import torch"
   ]
  },
  {
   "cell_type": "code",
   "execution_count": null,
   "metadata": {},
   "outputs": [],
   "source": [
    "# default_exp loss_functions"
   ]
  },
  {
   "cell_type": "markdown",
   "metadata": {},
   "source": [
    "# loss_functions\n",
    "\n",
    "> This module contains implementations of both [traditional survival analysis functions](https://square.github.io/pysurvival/math.html), as well as the loss functions associated with uncensored data, as defined in the [original DRSA paper](https://arxiv.org/pdf/1809.02403.pdf)."
   ]
  },
  {
   "cell_type": "code",
   "execution_count": null,
   "metadata": {},
   "outputs": [],
   "source": [
    "#hide\n",
    "from nbdev.showdoc import *"
   ]
  },
  {
   "cell_type": "markdown",
   "metadata": {},
   "source": [
    "## Survival Analysis Functions\n",
    "\n",
    "Following the notation used in the the [DRSA paper](https://arxiv.org/pdf/1809.02403.pdf), we define the following:\n",
    "\n",
    "* Let $z$ be the true occurrence time for the event of interest.\n",
    "\n",
    "* Let $t$ be the time that a given data point was observed.\n",
    "\n",
    "* For each observation, there exist $L$ time slices, ie $0 < t_1 < t_2 < \\dots < t_L$, at which we either observe the event (uncensored) or do not (censored).\n",
    "\n",
    "* Let $V_l = (t_{l-1}, t_l]$ be the set of all disjoint intervals with $l = 1, 2, \\dots, L$."
   ]
  },
  {
   "cell_type": "markdown",
   "metadata": {},
   "source": [
    "### Discrete Survival function\n",
    "\n",
    "Though it's given its own name is survival analysis, the survival function is simply calculated as $1 - \\text{CDF}(z)$. In the discrete, empirical case, the survival function is estimated as follows (this is equation (1) in the paper).\n",
    "\n",
    "$$ S(t_l) = Pr(z > t_l) = \\sum_{j > l}Pr(z\\in V_j) $$"
   ]
  },
  {
   "cell_type": "code",
   "execution_count": null,
   "metadata": {},
   "outputs": [],
   "source": [
    "#export\n",
    "\n",
    "def survival_rate(h):\n",
    "    \"\"\"\n",
    "    Given the predictied conditional hazard rate, this function estimates\n",
    "    the survival rate.\n",
    "    \n",
    "    input:\n",
    "        h: torch.tensor, which is the predicted\n",
    "            conditional hazard rate, h, at each observed time step\n",
    "    output:\n",
    "        s: torch.tensor, estimated survival rate at time t\n",
    "    \"\"\"\n",
    "    s = torch.prod(1-ts, dim=1)\n",
    "    return s"
   ]
  },
  {
   "cell_type": "code",
   "execution_count": null,
   "metadata": {},
   "outputs": [],
   "source": [
    "#hide\n",
    "\n",
    "def survival_rate(ts):\n",
    "    \"\"\"\n",
    "    Survival (rate) function.\n",
    "    1-CDF at each time\n",
    "    \"\"\"\n",
    "    return torch.prod(1-ts, dim=1)\n",
    "\n",
    "def event_rate(ts):\n",
    "    \"\"\"\n",
    "    CDF of probabilities at each time step \n",
    "    \"\"\"\n",
    "    return 1-survival_rate(ts)\n",
    "\n",
    "def event_time(ts):\n",
    "    \"\"\"\n",
    "    this is the pdf\n",
    "    \"\"\"\n",
    "    return ts[:, -1, :] * survival_rate(ts[:, :-1, :])"
   ]
  },
  {
   "cell_type": "markdown",
   "metadata": {},
   "source": [
    "<!-- As defined in the [DRSA paper](https://arxiv.org/pdf/1809.02403.pdf)\n",
    "\n",
    "* Discrete event rate (empirical CDF):\n",
    "\n",
    "$$ W(t_l) = Pr(z \\leq t_l) = \\sum_{j\\leq l}Pr(z\\in V_j) $$\n",
    "\n",
    "* Discrete Survival function:\n",
    "\n",
    "$$ S(t_l) = Pr(z > t_l) = \\sum_{j > l}Pr(z\\in V_j) $$\n",
    "\n",
    "* Discrete event time probability function (empirical PDF):\n",
    "\n",
    "$$p_l = Pr(z\\in V_t) = W(t_l) - W(t_{l-1}) = S(t_{l-1}) - S(t_{l})$$\n",
    "\n",
    "* Discrete conditional hazard rate:\n",
    "\n",
    "$$h_l = Pr(z\\in V_l | z > t_{l-1}) = \\frac{Pr(z\\in V_l)}{Pr(z>t_{l-1})} = \\frac{p_l}{S(t_{l-1})}$$ -->"
   ]
  },
  {
   "cell_type": "code",
   "execution_count": null,
   "metadata": {},
   "outputs": [
    {
     "name": "stdout",
     "output_type": "stream",
     "text": [
      "torch.Size([2, 8, 1])\n",
      "Survival rate:\n",
      " tensor([[0.0117],\n",
      "        [0.0506]], grad_fn=<ProdBackward1>)\n"
     ]
    }
   ],
   "source": [
    "ts1 = torch.tensor([[0.001],\n",
    "                    [0.5],\n",
    "                    [0.55],\n",
    "                    [0.15],\n",
    "                    [0.15],\n",
    "                    [0.15],\n",
    "                    [0.15],\n",
    "                    [0.9]], requires_grad=True)\n",
    "\n",
    "ts2 = torch.tensor([[0.001],\n",
    "                    [0.005],\n",
    "                    [0.1],\n",
    "                    [0.11],\n",
    "                    [0.12],\n",
    "                    [0.15],\n",
    "                    [0.15],\n",
    "                    [0.9]], requires_grad=True)\n",
    "\n",
    "ts = torch.stack([ts1, ts2], dim=0)\n",
    "print(ts.shape)\n",
    "print(f\"Survival rate:\\n {survival_rate(ts)}\")\n",
    "# print(f\"Event rate:\\n {event_rate(ts)}\")\n",
    "# print(f\"Event time:\\n {event_time(ts)}\")"
   ]
  }
 ],
 "metadata": {
  "kernelspec": {
   "display_name": "Python 3",
   "language": "python",
   "name": "python3"
  }
 },
 "nbformat": 4,
 "nbformat_minor": 4
}
