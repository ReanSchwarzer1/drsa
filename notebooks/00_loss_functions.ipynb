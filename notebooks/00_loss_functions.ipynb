{
 "cells": [
  {
   "cell_type": "code",
   "execution_count": null,
   "metadata": {},
   "outputs": [],
   "source": [
    "#export\n",
    "import torch"
   ]
  },
  {
   "cell_type": "code",
   "execution_count": null,
   "metadata": {},
   "outputs": [],
   "source": [
    "# default_exp loss_functions"
   ]
  },
  {
   "cell_type": "markdown",
   "metadata": {},
   "source": [
    "# loss_functions\n",
    "\n",
    "> This module contains implementations of both [traditional survival analysis functions](https://square.github.io/pysurvival/math.html), as well as the loss functions associated with uncensored data, as defined in the [original DRSA paper](https://arxiv.org/pdf/1809.02403.pdf)."
   ]
  },
  {
   "cell_type": "code",
   "execution_count": null,
   "metadata": {},
   "outputs": [],
   "source": [
    "#hide\n",
    "from nbdev.showdoc import *\n",
    "import pytest"
   ]
  },
  {
   "cell_type": "markdown",
   "metadata": {},
   "source": [
    "## Survival Analysis Functions\n",
    "\n",
    "Following the notation used in the the [DRSA paper](https://arxiv.org/pdf/1809.02403.pdf), we define the following:\n",
    "\n",
    "* Let $z$ be the true occurrence time for the event of interest.\n",
    "\n",
    "* Let $t$ be the time that a given data point was observed.\n",
    "\n",
    "* For each observation, there exist $L$ time slices, ie $0 < t_1 < t_2 < \\dots < t_L$, at which we either observe the event (uncensored) or do not (censored).\n",
    "\n",
    "* Let $V_l = (t_{l-1}, t_l]$ be the set of all disjoint intervals with $l = 1, 2, \\dots, L$."
   ]
  },
  {
   "cell_type": "markdown",
   "metadata": {},
   "source": [
    "### Discrete Survival function\n",
    "\n",
    "Though it's given its own name is survival analysis, the survival function is simply calculated as $1 - \\text{CDF}(z)$. In the discrete, empirical case, the survival function is estimated as follows (this is equation (1) in the paper).\n",
    "\n",
    "$$ S(t_l) = Pr(z > t_l) = \\sum_{j > l}Pr(z\\in V_j) $$"
   ]
  },
  {
   "cell_type": "code",
   "execution_count": null,
   "metadata": {},
   "outputs": [],
   "source": [
    "#export\n",
    "\n",
    "def survival_rate(h):\n",
    "    \"\"\"\n",
    "    Given the predictied conditional hazard rate, this function estimates\n",
    "    the survival rate.\n",
    "    \n",
    "    *input*:\n",
    "    * `h`: \n",
    "        - type: `torch.tensor`, \n",
    "        - predicted conditional hazard rate, at each observed time step.\n",
    "        - note: `h.shape == (batch size, 1, 1)`, as this is most amenable to use in training neural nets with pytorch.\n",
    "            \n",
    "    _output_:\n",
    "    * `s`: \n",
    "        - type: `torch.tensor`\n",
    "        - estimated survival rate at time t. \n",
    "        - note: `s.shape == (batch_size, 1)`\n",
    "    \"\"\"\n",
    "    if len(h.shape) != 3:\n",
    "        raise ValueError(f\"h is of shape {h.shape}. It is expected that h is of shape (batch size, 1, 1), as this is most amenable to use in training neural nets with pytorch.\")\n",
    "    s = (1-h).prod(dim=1)\n",
    "    return s"
   ]
  },
  {
   "cell_type": "code",
   "execution_count": null,
   "metadata": {},
   "outputs": [
    {
     "data": {
      "text/plain": [
       "tensor([[0.0117],\n",
       "        [0.0506]], grad_fn=<ProdBackward1>)"
      ]
     },
     "execution_count": null,
     "metadata": {},
     "output_type": "execute_result"
    }
   ],
   "source": [
    "# example\n",
    "h1 = torch.tensor([[0.001],\n",
    "                   [0.5],\n",
    "                   [0.55],\n",
    "                   [0.15],\n",
    "                   [0.15],\n",
    "                   [0.15],\n",
    "                   [0.15],\n",
    "                   [0.9]], requires_grad=True)\n",
    "h2 = torch.tensor([[0.001],\n",
    "                    [0.005],\n",
    "                    [0.1],\n",
    "                    [0.11],\n",
    "                    [0.12],\n",
    "                    [0.15],\n",
    "                    [0.15],\n",
    "                    [0.9]], requires_grad=True)\n",
    "h = torch.stack([h1, h2], dim=0)\n",
    "survival_rate(h)"
   ]
  },
  {
   "cell_type": "code",
   "execution_count": null,
   "metadata": {},
   "outputs": [],
   "source": [
    "#hide\n",
    "\n",
    "# survival rate tests\n",
    "\n",
    "def test_survival_rate(h):\n",
    "    # shape should be 3-d\n",
    "    with pytest.raises(ValueError):\n",
    "        s = survival_rate(h[0, :, :])\n",
    "    \n",
    "    batch_size, length, _ = h.shape\n",
    "    s = survival_rate(h)\n",
    "    \n",
    "    # output should have shape (batch_size, 1)\n",
    "    assert s.shape == torch.Size([batch_size, 1])\n",
    "    \n",
    "    # testing correct output\n",
    "    torch.testing.assert_allclose(s, torch.tensor([[0.0117], [0.0506]]), rtol=1e-3, atol=1e-3)\n",
    "    \n",
    "\n",
    "test_survival_rate(h)"
   ]
  },
  {
   "cell_type": "markdown",
   "metadata": {},
   "source": [
    "### Discrete Survival function\n",
    "\n",
    "Though it's given its own name is survival analysis, the survival function is simply calculated as $1 - \\text{CDF}(z)$. In the discrete, empirical case, the survival function is estimated as follows (this is equation (1) in the paper).\n",
    "\n",
    "$$ S(t_l) = Pr(z > t_l) = \\sum_{j > l}Pr(z\\in V_j) $$"
   ]
  },
  {
   "cell_type": "code",
   "execution_count": null,
   "metadata": {},
   "outputs": [],
   "source": [
    "#export\n",
    "\n",
    "def event_rate(ts):\n",
    "    \"\"\"\n",
    "    CDF of probabilities at each time step \n",
    "    \"\"\"\n",
    "    return 1-survival_rate(ts)"
   ]
  },
  {
   "cell_type": "code",
   "execution_count": null,
   "metadata": {},
   "outputs": [],
   "source": [
    "#hide\n",
    "\n",
    "\n",
    "\n",
    "\n",
    "\n",
    "def event_time(ts):\n",
    "    \"\"\"\n",
    "    this is the pdf\n",
    "    \"\"\"\n",
    "    return ts[:, -1, :] * survival_rate(ts[:, :-1, :])"
   ]
  },
  {
   "cell_type": "markdown",
   "metadata": {},
   "source": [
    "<!-- As defined in the [DRSA paper](https://arxiv.org/pdf/1809.02403.pdf)\n",
    "\n",
    "* Discrete event rate (empirical CDF):\n",
    "\n",
    "$$ W(t_l) = Pr(z \\leq t_l) = \\sum_{j\\leq l}Pr(z\\in V_j) $$\n",
    "\n",
    "* Discrete Survival function:\n",
    "\n",
    "$$ S(t_l) = Pr(z > t_l) = \\sum_{j > l}Pr(z\\in V_j) $$\n",
    "\n",
    "* Discrete event time probability function (empirical PDF):\n",
    "\n",
    "$$p_l = Pr(z\\in V_t) = W(t_l) - W(t_{l-1}) = S(t_{l-1}) - S(t_{l})$$\n",
    "\n",
    "* Discrete conditional hazard rate:\n",
    "\n",
    "$$h_l = Pr(z\\in V_l | z > t_{l-1}) = \\frac{Pr(z\\in V_l)}{Pr(z>t_{l-1})} = \\frac{p_l}{S(t_{l-1})}$$ -->"
   ]
  }
 ],
 "metadata": {
  "kernelspec": {
   "display_name": "Python 3",
   "language": "python",
   "name": "python3"
  }
 },
 "nbformat": 4,
 "nbformat_minor": 4
}
