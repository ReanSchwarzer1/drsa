{
 "cells": [
  {
   "cell_type": "code",
   "execution_count": null,
   "metadata": {},
   "outputs": [],
   "source": [
    "#export\n",
    "import torch"
   ]
  },
  {
   "cell_type": "code",
   "execution_count": null,
   "metadata": {},
   "outputs": [],
   "source": [
    "# default_exp loss_functions"
   ]
  },
  {
   "cell_type": "markdown",
   "metadata": {},
   "source": [
    "# loss_functions\n",
    "\n",
    "> This module contains implementations of both [traditional survival analysis functions](https://square.github.io/pysurvival/math.html), as well as the loss functions associated with uncensored data, as defined in the [original DRSA paper](https://arxiv.org/pdf/1809.02403.pdf)."
   ]
  },
  {
   "cell_type": "code",
   "execution_count": null,
   "metadata": {},
   "outputs": [],
   "source": [
    "#hide\n",
    "from nbdev.showdoc import *\n",
    "import pytest"
   ]
  },
  {
   "cell_type": "markdown",
   "metadata": {},
   "source": [
    "## Survival Analysis Functions\n",
    "\n",
    "Following the notation used in the the [DRSA paper](https://arxiv.org/pdf/1809.02403.pdf), we define the following:\n",
    "\n",
    "* Let $z$ be the true occurrence time for the event of interest.\n",
    "\n",
    "* Let $t$ be the time that a given data point was observed.\n",
    "\n",
    "* For each observation, there exist $L$ time slices, ie $0 < t_1 < t_2 < \\dots < t_L$, at which we either observe the event (uncensored) or do not (censored).\n",
    "\n",
    "* Let $V_l = (t_{l-1}, t_l]$ be the set of all disjoint intervals with $l = 1, 2, \\dots, L$."
   ]
  },
  {
   "cell_type": "code",
   "execution_count": null,
   "metadata": {},
   "outputs": [],
   "source": [
    "#hide\n",
    "\n",
    "def assert_correct_input_shape(h):\n",
    "    if len(h.shape) != 3:\n",
    "        raise ValueError(f\"h is of shape {h.shape}. It is expected that h is of shape (batch size, 1, 1), as this is most amenable to use in training neural nets with pytorch.\")\n",
    "\n",
    "def assert_correct_output_shape(q, batch_size):\n",
    "    if q.shape != torch.Size([batch_size, 1]):\n",
    "        raise ValueError(f\"q is of shape {q.shape}. It is expected that q is of shape (batch_size, 1)\")"
   ]
  },
  {
   "cell_type": "markdown",
   "metadata": {},
   "source": [
    "### Discrete Survival function\n",
    "\n",
    "Though it's given its own name is survival analysis, the survival function is simply calculated as $1 - \\text{CDF}(z)$. In the discrete, empirical case, the survival function is estimated as follows (this is equation (5) in the paper).\n",
    "\n",
    "$$ S(t_l) = Pr(z > t_l) = \\sum_{j > l}Pr(z\\in V_j) $$"
   ]
  },
  {
   "cell_type": "code",
   "execution_count": null,
   "metadata": {},
   "outputs": [],
   "source": [
    "#export\n",
    "\n",
    "def survival_rate(h):\n",
    "    \"\"\"\n",
    "    Given the predicted conditional hazard rate, this function estimates\n",
    "    the survival rate.\n",
    "    \n",
    "    *input*:\n",
    "    * `h`: \n",
    "        - type: `torch.tensor`, \n",
    "        - predicted conditional hazard rate, at each observed time step.\n",
    "        - note: `h.shape == (batch size, 1, 1)`, as this is most amenable to use in training neural nets with pytorch.\n",
    "            \n",
    "    _output_:\n",
    "    * `s`: \n",
    "        - type: `torch.tensor`\n",
    "        - estimated survival rate at time t. \n",
    "        - note: `s.shape == (batch_size, 1)`\n",
    "    \"\"\"\n",
    "    assert_correct_input_shape(h)\n",
    "    s = (1-h).prod(dim=1)\n",
    "    return s"
   ]
  },
  {
   "cell_type": "code",
   "execution_count": null,
   "metadata": {},
   "outputs": [
    {
     "data": {
      "text/plain": [
       "tensor([[0.0117],\n",
       "        [0.0506]], grad_fn=<ProdBackward1>)"
      ]
     },
     "execution_count": null,
     "metadata": {},
     "output_type": "execute_result"
    }
   ],
   "source": [
    "# example\n",
    "h1 = torch.tensor([[0.001],\n",
    "                   [0.5],\n",
    "                   [0.55],\n",
    "                   [0.15],\n",
    "                   [0.15],\n",
    "                   [0.15],\n",
    "                   [0.15],\n",
    "                   [0.9]], requires_grad=True)\n",
    "h2 = torch.tensor([[0.001],\n",
    "                    [0.005],\n",
    "                    [0.1],\n",
    "                    [0.11],\n",
    "                    [0.12],\n",
    "                    [0.15],\n",
    "                    [0.15],\n",
    "                    [0.9]], requires_grad=True)\n",
    "h = torch.stack([h1, h2], dim=0)\n",
    "survival_rate(h)"
   ]
  },
  {
   "cell_type": "code",
   "execution_count": null,
   "metadata": {},
   "outputs": [],
   "source": [
    "#hide\n",
    "\n",
    "# survival rate tests\n",
    "\n",
    "def test_survival_rate(h):\n",
    "    # shape should be 3-d\n",
    "    with pytest.raises(ValueError):\n",
    "        s = survival_rate(h[0, :, :])\n",
    "    \n",
    "    batch_size, length, _ = h.shape\n",
    "    s = survival_rate(h)\n",
    "    \n",
    "    # output should have shape (batch_size, 1)\n",
    "    assert_correct_output_shape(s, batch_size)\n",
    "    \n",
    "    # testing correct output\n",
    "    torch.testing.assert_allclose(s, torch.tensor([[0.0117], [0.0506]]), rtol=1e-3, atol=1e-3)\n",
    "    \n",
    "\n",
    "test_survival_rate(h)"
   ]
  },
  {
   "cell_type": "markdown",
   "metadata": {},
   "source": [
    "### Discrete Event Rate function\n",
    "\n",
    "The event rate function is calculated as $\\text{CDF}(z)$. In the discrete, empirical case, it is estimated as follows (this is equation (5) in the paper).\n",
    "\n",
    "$$ W(t_l) = Pr(z \\leq t_l) = \\sum_{j\\leq l}Pr(z\\in V_j) $$"
   ]
  },
  {
   "cell_type": "code",
   "execution_count": null,
   "metadata": {},
   "outputs": [],
   "source": [
    "#export\n",
    "\n",
    "def event_rate(h):\n",
    "    \"\"\"\n",
    "    Given the predicted conditional hazard rate, this function estimates\n",
    "    the event rate.\n",
    "    \n",
    "    *input*:\n",
    "    * `h`: \n",
    "        - type: `torch.tensor`, \n",
    "        - predicted conditional hazard rate, at each observed time step.\n",
    "        - note: `h.shape == (batch size, 1, 1)`, as this is most amenable to use in training neural nets with pytorch.\n",
    "            \n",
    "    _output_:\n",
    "    * `w`: \n",
    "        - type: `torch.tensor`\n",
    "        - estimated survival rate at time t. \n",
    "        - note: `w.shape == (batch_size, 1)`\n",
    "    \"\"\"\n",
    "    assert_correct_input_shape(h)\n",
    "    w = 1-survival_rate(h)\n",
    "    return w"
   ]
  },
  {
   "cell_type": "code",
   "execution_count": null,
   "metadata": {},
   "outputs": [
    {
     "data": {
      "text/plain": [
       "tensor([[0.9883],\n",
       "        [0.9494]], grad_fn=<RsubBackward1>)"
      ]
     },
     "execution_count": null,
     "metadata": {},
     "output_type": "execute_result"
    }
   ],
   "source": [
    "# example\n",
    "event_rate(h)"
   ]
  },
  {
   "cell_type": "code",
   "execution_count": null,
   "metadata": {},
   "outputs": [],
   "source": [
    "#hide\n",
    "\n",
    "# event rate tests\n",
    "\n",
    "def test_event_rate(h):\n",
    "    # shape should be 3-d\n",
    "    with pytest.raises(ValueError):\n",
    "        w = event_rate(h[0, :, :])\n",
    "    \n",
    "    batch_size, length, _ = h.shape\n",
    "    w = event_rate(h)\n",
    "    \n",
    "    # output should have shape (batch_size, 1)\n",
    "    assert_correct_output_shape(w, batch_size)\n",
    "    \n",
    "    # testing correct output\n",
    "    torch.testing.assert_allclose(w, torch.tensor([[0.9883], [0.9494]]), rtol=1e-3, atol=1e-3)\n",
    "    \n",
    "\n",
    "test_event_rate(h)"
   ]
  },
  {
   "cell_type": "markdown",
   "metadata": {},
   "source": [
    "### Discrete Event Time Probability function\n",
    "\n",
    "The event time probability function is calculated as $\\text{PDF}(z)$. In the discrete, empirical case, it is estimated as follows (this is equation (6) in the paper).\n",
    "\n",
    "$$p_l = Pr(z\\in V_t) = W(t_l) - W(t_{l-1}) = S(t_{l-1}) - S(t_{l})$$"
   ]
  },
  {
   "cell_type": "code",
   "execution_count": null,
   "metadata": {},
   "outputs": [],
   "source": [
    "#export\n",
    "\n",
    "def event_time(h):\n",
    "    \"\"\"\n",
    "    Given the predicted conditional hazard rate, this function estimates\n",
    "    the probability that the event occurs at time t.\n",
    "    \n",
    "    *input*:\n",
    "    * `h`: \n",
    "        - type: `torch.tensor`, \n",
    "        - predicted conditional hazard rate, at each observed time step.\n",
    "        - note: `h.shape == (batch size, 1, 1)`, as this is most amenable to use in training neural nets with pytorch.\n",
    "            \n",
    "    _output_:\n",
    "    * `p`: \n",
    "        - type: `torch.tensor`\n",
    "        - estimated probability of event at time t. \n",
    "        - note: `p.shape == (batch_size, 1)`\n",
    "    \"\"\"\n",
    "    assert_correct_input_shape(h)\n",
    "    p = h[:, -1, :] * survival_rate(h[:, :-1, :])\n",
    "    return p"
   ]
  },
  {
   "cell_type": "code",
   "execution_count": null,
   "metadata": {},
   "outputs": [
    {
     "data": {
      "text/plain": [
       "tensor([[0.1056],\n",
       "        [0.4556]], grad_fn=<MulBackward0>)"
      ]
     },
     "execution_count": null,
     "metadata": {},
     "output_type": "execute_result"
    }
   ],
   "source": [
    "# example\n",
    "event_time(h)"
   ]
  },
  {
   "cell_type": "code",
   "execution_count": null,
   "metadata": {},
   "outputs": [],
   "source": [
    "#hide\n",
    "\n",
    "# event time tests\n",
    "\n",
    "def test_event_time(h):\n",
    "    # shape should be 3-d\n",
    "    with pytest.raises(ValueError):\n",
    "        p = event_time(h[0, :, :])\n",
    "    \n",
    "    batch_size, length, _ = h.shape\n",
    "    p = event_time(h)\n",
    "    \n",
    "    # output should have shape (batch_size, 1)\n",
    "    assert_correct_output_shape(p, batch_size)\n",
    "\n",
    "    # testing correct output\n",
    "    torch.testing.assert_allclose(p, torch.tensor([[0.1056], [0.4556]]), rtol=1e-3, atol=1e-3)\n",
    "    \n",
    "\n",
    "test_event_time(h)"
   ]
  },
  {
   "cell_type": "markdown",
   "metadata": {},
   "source": [
    "### Discrete Conditional Hazard Rate\n",
    "\n",
    "The conditional hazard rate is the quantity which will be predicted at each time step by a recurrent survival analysis model. In the discrete, empirical case, it is estimated as follows (this is equation (7) in the paper).\n",
    "\n",
    "$$h_l = Pr(z\\in V_l | z > t_{l-1}) = \\frac{Pr(z\\in V_l)}{Pr(z>t_{l-1})} = \\frac{p_l}{S(t_{l-1})}$$"
   ]
  },
  {
   "cell_type": "markdown",
   "metadata": {},
   "source": [
    "## Log Survival Analysis Functions\n",
    "\n",
    "We additionally define the log of each of the traditional survival analysis functions, which prove useful for computational stability, being that we need to multiply many float point decimal values together."
   ]
  },
  {
   "cell_type": "markdown",
   "metadata": {},
   "source": [
    "### Log Survival Function"
   ]
  },
  {
   "cell_type": "code",
   "execution_count": null,
   "metadata": {},
   "outputs": [],
   "source": [
    "#export\n",
    "\n",
    "def log_survival_rate(h):\n",
    "    \"\"\"\n",
    "    Given the predicted conditional hazard rate, this function estimates\n",
    "    the log survival rate.\n",
    "    \n",
    "    *input*:\n",
    "    * `h`: \n",
    "        - type: `torch.tensor`, \n",
    "        - predicted conditional hazard rate, at each observed time step.\n",
    "        - note: `h.shape == (batch size, 1, 1)`, as this is most amenable to use in training neural nets with pytorch.\n",
    "            \n",
    "    _output_:\n",
    "    * `s`: \n",
    "        - type: `torch.tensor`\n",
    "        - estimated log survival rate at time t. \n",
    "        - note: `s.shape == (batch_size, 1)`\n",
    "    \"\"\"\n",
    "    assert_correct_input_shape(h)\n",
    "    s = (1-h).log().sum(dim=1)\n",
    "    return s"
   ]
  },
  {
   "cell_type": "code",
   "execution_count": null,
   "metadata": {},
   "outputs": [
    {
     "data": {
      "text/plain": [
       "tensor([[-4.4453],\n",
       "        [-2.9834]], grad_fn=<SumBackward1>)"
      ]
     },
     "execution_count": null,
     "metadata": {},
     "output_type": "execute_result"
    }
   ],
   "source": [
    "#example\n",
    "log_survival_rate(h)"
   ]
  },
  {
   "cell_type": "code",
   "execution_count": null,
   "metadata": {},
   "outputs": [],
   "source": [
    "#hide\n",
    "\n",
    "# log survival rate tests\n",
    "def test_log_survival_rate(h):\n",
    "    # shape should be 3-d\n",
    "    with pytest.raises(ValueError):\n",
    "        s = log_survival_rate(h[0, :, :])\n",
    "    \n",
    "    batch_size, length, _ = h.shape\n",
    "    s = log_survival_rate(h)\n",
    "    \n",
    "    # output should have shape (batch_size, 1)\n",
    "    assert_correct_output_shape(s, batch_size)\n",
    "    \n",
    "    # testing correct output\n",
    "    torch.testing.assert_allclose(s, survival_rate(h).log(), rtol=1e-3, atol=1e-3)\n",
    "    \n",
    "\n",
    "test_log_survival_rate(h)"
   ]
  },
  {
   "cell_type": "markdown",
   "metadata": {},
   "source": [
    "### Log Event Rate Function"
   ]
  },
  {
   "cell_type": "code",
   "execution_count": null,
   "metadata": {},
   "outputs": [],
   "source": [
    "#export\n",
    "\n",
    "def log_event_rate(h):\n",
    "    \"\"\"\n",
    "    Given the predicted conditional hazard rate, this function estimates\n",
    "    the log event rate.\n",
    "    \n",
    "    *input*:\n",
    "    * `h`: \n",
    "        - type: `torch.tensor`, \n",
    "        - predicted conditional hazard rate, at each observed time step.\n",
    "        - note: `h.shape == (batch size, 1, 1)`, as this is most amenable to use in training neural nets with pytorch.\n",
    "            \n",
    "    _output_:\n",
    "    * `w`: \n",
    "        - type: `torch.tensor`\n",
    "        - estimated log survival rate at time t. \n",
    "        - note: `w.shape == (batch_size, 1)`\n",
    "    \"\"\"\n",
    "    assert_correct_input_shape(h)\n",
    "    w = event_rate(h).log()\n",
    "    return w"
   ]
  },
  {
   "cell_type": "code",
   "execution_count": null,
   "metadata": {},
   "outputs": [
    {
     "data": {
      "text/plain": [
       "tensor([[-0.0118],\n",
       "        [-0.0519]], grad_fn=<LogBackward>)"
      ]
     },
     "execution_count": null,
     "metadata": {},
     "output_type": "execute_result"
    }
   ],
   "source": [
    "# example\n",
    "log_event_rate(h)"
   ]
  },
  {
   "cell_type": "code",
   "execution_count": null,
   "metadata": {},
   "outputs": [],
   "source": [
    "#hide\n",
    "\n",
    "# log event rate tests\n",
    "\n",
    "def test_log_event_rate(h):\n",
    "    # shape should be 3-d\n",
    "    with pytest.raises(ValueError):\n",
    "        w = log_event_rate(h[0, :, :])\n",
    "    \n",
    "    batch_size, length, _ = h.shape\n",
    "    w = log_event_rate(h)\n",
    "    \n",
    "    # output should have shape (batch_size, 1)\n",
    "    assert_correct_output_shape(w, batch_size)\n",
    "    \n",
    "    # testing correct output\n",
    "    torch.testing.assert_allclose(w, event_rate(h).log(), rtol=1e-3, atol=1e-3)\n",
    "    \n",
    "\n",
    "test_log_event_rate(h)"
   ]
  },
  {
   "cell_type": "markdown",
   "metadata": {},
   "source": [
    "### Log Event Time Function"
   ]
  },
  {
   "cell_type": "code",
   "execution_count": null,
   "metadata": {},
   "outputs": [],
   "source": [
    "#export\n",
    "\n",
    "def log_event_time(h):\n",
    "    \"\"\"\n",
    "    Given the predicted conditional hazard rate, this function estimates\n",
    "    the log probability that the event occurs at time t.\n",
    "    \n",
    "    *input*:\n",
    "    * `h`: \n",
    "        - type: `torch.tensor`, \n",
    "        - predicted conditional hazard rate, at each observed time step.\n",
    "        - note: `h.shape == (batch size, 1, 1)`, as this is most amenable to use in training neural nets with pytorch.\n",
    "            \n",
    "    _output_:\n",
    "    * `p`: \n",
    "        - type: `torch.tensor`\n",
    "        - estimated log probability of event at time t. \n",
    "        - note: `p.shape == (batch_size, 1)`\n",
    "    \"\"\"\n",
    "    assert_correct_input_shape(h)\n",
    "    p = torch.log(h[:, -1, :]) + log_survival_rate(h[:, :-1, :])\n",
    "    return p"
   ]
  },
  {
   "cell_type": "code",
   "execution_count": null,
   "metadata": {},
   "outputs": [
    {
     "data": {
      "text/plain": [
       "tensor([[-2.2481],\n",
       "        [-0.7861]], grad_fn=<AddBackward0>)"
      ]
     },
     "execution_count": null,
     "metadata": {},
     "output_type": "execute_result"
    }
   ],
   "source": [
    "# example\n",
    "log_event_time(h)"
   ]
  },
  {
   "cell_type": "code",
   "execution_count": null,
   "metadata": {},
   "outputs": [],
   "source": [
    "#hide\n",
    "\n",
    "# log event time tests\n",
    "\n",
    "def test_log_event_time(h):\n",
    "    # shape should be 3-d\n",
    "    with pytest.raises(ValueError):\n",
    "        p = log_event_time(h[0, :, :])\n",
    "    \n",
    "    batch_size, length, _ = h.shape\n",
    "    p = log_event_time(h)\n",
    "    \n",
    "    # output should have shape (batch_size, 1)\n",
    "    assert_correct_output_shape(p, batch_size)\n",
    "    \n",
    "    # testing correct output\n",
    "    torch.testing.assert_allclose(p, event_time(h).log(), rtol=1e-3, atol=1e-3)\n",
    "    \n",
    "\n",
    "test_log_event_time(h)"
   ]
  },
  {
   "cell_type": "markdown",
   "metadata": {},
   "source": [
    "## Loss Functions\n",
    "\n",
    "Now, we define the transform these generic survival analysis functions into loss functions that can be automatically differentiated by PyTorch, in order to train a Deep Recurrent Survival Analysis model.\n",
    "\n",
    "\n",
    "We make a few notes below:\n",
    "\n",
    "1. The functions below adhere to the common pattern used across all of [`PyTorch`'s loss functions](https://pytorch.org/docs/stable/nn.functional.html#loss-functions), which is to take two arguments named `input` and `target`. We note, however, that due to the nature of this survival data, the target is inherent to the data structure and thus unnecessary.\n",
    "\n",
    "2. The original DRSA paper defines 3 loss functions, 2 of which are directed towards uncensored data, and 1 of which applies to censored data. This library's focus is on DRSA models using only uncensored data, so those are the only lossed we'll be defining."
   ]
  },
  {
   "cell_type": "markdown",
   "metadata": {},
   "source": [
    "### Event Time Loss"
   ]
  },
  {
   "cell_type": "code",
   "execution_count": null,
   "metadata": {},
   "outputs": [],
   "source": [
    "#export\n",
    "\n",
    "def event_time_loss(input, target=None):\n",
    "    \"\"\"\n",
    "    Loss function applied to uncensored data in order\n",
    "    to optimize the PDF of the true event time, z\n",
    "    \n",
    "    input:\n",
    "    * `input`: \n",
    "        - type: `torch.tensor`, \n",
    "        - predicted conditional hazard rate, at each observed time step.\n",
    "        - note: `h.shape == (batch size, 1, 1)`\n",
    "    * `target`:\n",
    "        - unused, only present to mimic pytorch loss functions\n",
    "            \n",
    "    output:\n",
    "    * `evt_loss`: \n",
    "        - type: `torch.tensor`\n",
    "        - Loss associated with how wrong each predicted probability was at each time step\n",
    "    \"\"\"\n",
    "    assert_correct_input_shape(input)\n",
    "    evt_loss = -log_event_time(input).sum(dim=0).squeeze()\n",
    "    return evt_loss"
   ]
  },
  {
   "cell_type": "code",
   "execution_count": null,
   "metadata": {},
   "outputs": [
    {
     "data": {
      "text/plain": [
       "tensor(3.0342, grad_fn=<NegBackward>)"
      ]
     },
     "execution_count": null,
     "metadata": {},
     "output_type": "execute_result"
    }
   ],
   "source": [
    "# example\n",
    "event_time_loss(h)"
   ]
  },
  {
   "cell_type": "code",
   "execution_count": null,
   "metadata": {},
   "outputs": [],
   "source": [
    "#hide\n",
    "\n",
    "# event time loss tests\n",
    "def test_event_time_loss(input, target=None):\n",
    "    evt_loss = event_time_loss(input)\n",
    "    \n",
    "    # testing correct output\n",
    "    torch.testing.assert_allclose(evt_loss, torch.tensor(3.0342), rtol=1e-3, atol=1e-3)\n",
    "\n",
    "test_event_time_loss(h)"
   ]
  },
  {
   "cell_type": "markdown",
   "metadata": {},
   "source": [
    "### Event Rate Loss"
   ]
  },
  {
   "cell_type": "code",
   "execution_count": null,
   "metadata": {},
   "outputs": [],
   "source": [
    "#export\n",
    "\n",
    "def event_rate_loss(input, target=None):\n",
    "    \"\"\"\n",
    "    Loss function applied to uncensored data in order\n",
    "    to optimize the CDF of the true event time, z\n",
    "    \n",
    "    input:\n",
    "    * `input`: \n",
    "        - type: `torch.tensor`, \n",
    "        - predicted conditional hazard rate, at each observed time step.\n",
    "        - note: `h.shape == (batch size, 1, 1)`\n",
    "    * `target`:\n",
    "        - unused, only present to mimic pytorch loss functions\n",
    "            \n",
    "    output:\n",
    "    * `evr_loss`: \n",
    "        - type: `torch.tensor`\n",
    "        - Loss associated with how cumulative predicted probabilities differ from the ground truth labels.\n",
    "    \"\"\"\n",
    "    assert_correct_input_shape(input)\n",
    "    evr_loss = -log_event_rate(input).sum(dim=0).squeeze()\n",
    "    return evr_loss"
   ]
  },
  {
   "cell_type": "code",
   "execution_count": null,
   "metadata": {},
   "outputs": [
    {
     "data": {
      "text/plain": [
       "tensor(0.0638, grad_fn=<NegBackward>)"
      ]
     },
     "execution_count": null,
     "metadata": {},
     "output_type": "execute_result"
    }
   ],
   "source": [
    "# example\n",
    "event_rate_loss(h)"
   ]
  },
  {
   "cell_type": "code",
   "execution_count": null,
   "metadata": {},
   "outputs": [],
   "source": [
    "#hide\n",
    "\n",
    "# event rate loss tests\n",
    "def test_event_rate_loss(input, target=None):\n",
    "    evr_loss = event_rate_loss(input)\n",
    "    \n",
    "    # testing correct output\n",
    "    torch.testing.assert_allclose(evr_loss, torch.tensor(0.0638), rtol=1e-3, atol=1e-3)\n",
    "\n",
    "test_event_rate_loss(h)"
   ]
  }
 ],
 "metadata": {
  "kernelspec": {
   "display_name": "Python 3",
   "language": "python",
   "name": "python3"
  }
 },
 "nbformat": 4,
 "nbformat_minor": 4
}
